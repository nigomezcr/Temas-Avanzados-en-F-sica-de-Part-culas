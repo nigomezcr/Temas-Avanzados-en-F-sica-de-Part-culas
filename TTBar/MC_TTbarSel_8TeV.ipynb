{
 "cells": [
  {
   "cell_type": "markdown",
   "metadata": {},
   "source": [
    "# An introductional notebook to HEP analysis in C++\n",
    "\n",
    "<p>In this notebook you can find an easy set of commands that show some basic computing techniques commonly used in High Energy Physics (HEP) analyzes.</p>\n",
    "\n",
    "<p>It also shows how to create an histogram, fill it and draw it. Moreover it is an introduction to [ROOT](https://root.cern.ch/) too. The final output is a plot with the number of leptons.</p>\n",
    "\n",
    "Based on ATLAS opendata notebooks (http://opendata.atlas.cern/release/2020/documentation/notebooks/intro.html)\n"
   ]
  },
  {
   "cell_type": "markdown",
   "metadata": {},
   "source": [
    "The library used is [ROOT](https://root.cern.ch/), a scientific data analysis software framework that provides a large set of functionalities needed to deal with big data processing, statistical analysis, visualisation and storage."
   ]
  },
  {
   "cell_type": "markdown",
   "metadata": {},
   "source": [
    "<p>At first we have to include several helpers that will support our analysis:</p>"
   ]
  },
  {
   "cell_type": "code",
   "execution_count": 1,
   "metadata": {},
   "outputs": [],
   "source": [
    "#include <iostream>\n",
    "#include <string>\n",
    "#include <stdio.h>"
   ]
  },
  {
   "cell_type": "markdown",
   "metadata": {},
   "source": [
    "Next we have to open the data that we want to analyze. As described above the data is stored in a _*.root_ file. This is a root file containing tracks and calorimeter clusters"
   ]
  },
  {
   "cell_type": "code",
   "execution_count": 2,
   "metadata": {},
   "outputs": [],
   "source": [
    "//TFile *file = TFile::Open(\"Data_8TeV.root\"); \n",
    "TFile *MCfile = TFile::Open(\"ttbar_8TeV.root\"); "
   ]
  },
  {
   "cell_type": "markdown",
   "metadata": {},
   "source": [
    "The next step is to define a tree named _tree_ to get the data out of the _*.root_ file. The tree in this root file is called \"mini\". We will then print the contents of the tree to find the names of the variables. "
   ]
  },
  {
   "cell_type": "code",
   "execution_count": null,
   "metadata": {},
   "outputs": [],
   "source": [
    "TTree *MCtree = (TTree*) MCfile->Get(\"mini\");\n",
    "MCtree->Print()"
   ]
  },
  {
   "cell_type": "code",
   "execution_count": null,
   "metadata": {},
   "outputs": [],
   "source": [
    "TTree *tree = (TTree*) file->Get(\"mini\");\n",
    "tree->Print()"
   ]
  },
  {
   "cell_type": "markdown",
   "metadata": {},
   "source": [
    "Activate variables "
   ]
  },
  {
   "cell_type": "code",
   "execution_count": 4,
   "metadata": {},
   "outputs": [],
   "source": [
    "\n",
    "Bool_t e_trig;\n",
    "Bool_t mu_trig;\n",
    "Bool_t good_vtx;\n",
    "UInt_t lep_n;\n",
    "UInt_t jet_n;\n",
    "Float_t MET;\n",
    "Float_t MET_phi;\n",
    "Float_t mcw;\n",
    "\n",
    "Float_t lep_pt[10];  \n",
    "Float_t lep_eta[10];  \n",
    "Float_t lep_phi[10];  \n",
    "Float_t lep_E[10];  \n",
    "Int_t lep_type[10];  \n",
    "Float_t lep_ptcone30[10];\n",
    "Float_t lep_etcone20[10];\n",
    "\n",
    "Float_t jet_pt[10];  \n",
    "Float_t jet_eta[10];  \n",
    "Float_t jet_jvf[10];  \n",
    "Float_t jet_mv1[10];  \n",
    "\n",
    "\n",
    "MCtree->SetBranchAddress(\"mcWeight\", &mcw);\n",
    "MCtree->SetBranchAddress(\"trigE\", &e_trig);\n",
    "MCtree->SetBranchAddress(\"trigM\", &mu_trig);\n",
    "MCtree->SetBranchAddress(\"hasGoodVertex\", &good_vtx);\n",
    "MCtree->SetBranchAddress(\"lep_n\", &lep_n);\n",
    "MCtree->SetBranchAddress(\"jet_n\", &jet_n);\n",
    "MCtree->SetBranchAddress(\"met_et\", &MET);\n",
    "MCtree->SetBranchAddress(\"met_phi\", &MET_phi);\n",
    "\n",
    "MCtree->SetBranchAddress(\"lep_pt\", &lep_pt);\n",
    "MCtree->SetBranchAddress(\"lep_eta\", &lep_eta);\n",
    "MCtree->SetBranchAddress(\"lep_phi\", &lep_phi);\n",
    "MCtree->SetBranchAddress(\"lep_E\", &lep_E);\n",
    "MCtree->SetBranchAddress(\"lep_type\", &lep_type);\n",
    "MCtree->SetBranchAddress(\"lep_ptcone30\", &lep_ptcone30);\n",
    "MCtree->SetBranchAddress(\"lep_etcone20\", &lep_etcone20);\n",
    "\n",
    "MCtree->SetBranchAddress(\"jet_pt\", &jet_pt);\n",
    "MCtree->SetBranchAddress(\"jet_eta\", &jet_eta);\n",
    "MCtree->SetBranchAddress(\"jet_jvf\", &jet_jvf);\n",
    "MCtree->SetBranchAddress(\"jet_MV1\", &jet_mv1);"
   ]
  },
  {
   "cell_type": "code",
   "execution_count": 5,
   "metadata": {},
   "outputs": [],
   "source": [
    "TCanvas *canvas0 = new TCanvas(\"Canvas0\",\"0\",800,600);"
   ]
  },
  {
   "cell_type": "markdown",
   "metadata": {},
   "source": [
    "Create histograms: Leading jet pT and all jets pT "
   ]
  },
  {
   "cell_type": "code",
   "execution_count": 6,
   "metadata": {},
   "outputs": [],
   "source": [
    "/*\n",
    "TH1F *cutflow = new TH1F(\"Cutflow\",\"Cutflow; Cut; Events\",20,0,10);\n",
    "\n",
    "TH1F *hist_lep_pt = new TH1F(\"Leptons pT\",\"lep pT; pT(GeV); Events\",100,0,200);\n",
    "TH1F *hist_lep_eta = new TH1F(\"Leptons eta\",\"lep eta; eta; Events\",20,-5,5);\n",
    "TH1F *hist_track_isol = new TH1F(\"Track Isolation\",\"track Isol; pTcone/pT; Events\",10,0,1);\n",
    "TH1F *hist_cal_isol = new TH1F(\"Calorimeter Isolation\",\"cal Isol; pTcone/pT; Events\",10,0,1);\n",
    "\n",
    "\n",
    "TH1F *hist_njets = new TH1F(\"Number of jets\",\"n-jets; Jet multiplicity; Events\",10,0,10);\n",
    "TH1F *hist_jet_pt = new TH1F(\"Jets pT\",\"jet pT; pT(GeV); Events\",100,0,200);\n",
    "TH1F *hist_jet_eta = new TH1F(\"Jets eta\",\"jet eta; eta; Events\",20,-5,5);\n",
    "TH1F *hist_jet_jvf = new TH1F(\"Jets JVF\",\"jet JVF; JVF; Events\",20,-1,1);\n",
    "TH1F *hist_jet_mv1 = new TH1F(\"Jets MV1\",\"jet MV1; mv1; Events\",20,0,1);\n",
    "TH1F *hist_nbjets = new TH1F(\"Number of b jets\",\"n-bjets; b Jet multiplicity; Events\",10,0,10);\n",
    "\n",
    "TH1F *hist_MET = new TH1F(\"Missing ET\", \"MET; Et, Events\", 100, 0, 100);\n",
    "TH1F *hist_MWT = new TH1F(\"W Mass\", \"MWT; Et, Events\", 100, 0, 100);\n",
    "*/"
   ]
  },
  {
   "cell_type": "markdown",
   "metadata": {},
   "source": [
    "Histograms for simulation"
   ]
  },
  {
   "cell_type": "code",
   "execution_count": 6,
   "metadata": {},
   "outputs": [],
   "source": [
    "TH1F *MC_cutflow = new TH1F(\"Cutflow\",\"Cutflow; Cut; Events\",20,0,10);\n",
    "\n",
    "TH1F *MC_hist_lep_pt = new TH1F(\"Leptons pT\",\"lep pT; pT(GeV); Events\",100,0,200);\n",
    "TH1F *MC_hist_lep_eta = new TH1F(\"Leptons eta\",\"lep eta; eta; Events\",50,-5,5);\n",
    "TH1F *MC_hist_track_isol = new TH1F(\"Track Isolation\",\"track Isol; pTcone/pT; Events\",10,0,0.5);\n",
    "TH1F *MC_hist_cal_isol = new TH1F(\"Calorimeter Isolation\",\"cal Isol; pTcone/pT; Events\",10,0,0.1);\n",
    "\n",
    "\n",
    "TH1F *MC_hist_njets = new TH1F(\"Number of jets\",\"n-jets; Jet multiplicity; Events\",10,0,10);\n",
    "TH1F *MC_hist_jet_pt = new TH1F(\"Jets pT\",\"jet pT; pT(GeV); Events\",100,0,200);\n",
    "TH1F *MC_hist_jet_eta = new TH1F(\"Jets eta\",\"jet eta; eta; Events\",20,-5,5);\n",
    "TH1F *MC_hist_jet_jvf = new TH1F(\"Jets JVF\",\"jet JVF; JVF; Events\",20,-1,1);\n",
    "TH1F *MC_hist_jet_mv1 = new TH1F(\"Jets MV1\",\"jet MV1; mv1; Events\",20,0,1);\n",
    "TH1F *MC_hist_nbjets = new TH1F(\"Number of b jets\",\"n-bjets; b Jet multiplicity; Events\",10,0,10);\n",
    "\n",
    "TH1F *MC_hist_MET = new TH1F(\"Missing ET\", \"MET; Et; Events\", 100, 0, 200);\n",
    "TH1F *MC_hist_MWT = new TH1F(\"W Mass\", \"MWT; Et; Events\", 100, 0, 200);"
   ]
  },
  {
   "cell_type": "markdown",
   "metadata": {},
   "source": [
    "Loop and fill histograms"
   ]
  },
  {
   "cell_type": "code",
   "execution_count": 7,
   "metadata": {},
   "outputs": [],
   "source": [
    "Float_t scaleFactor_PILEUP;\n",
    "Float_t scaleFactor_ELE;\n",
    "Float_t scaleFactor_MUON;\n",
    "Float_t scaleFactor_BTAG;\n",
    "Float_t scaleFactor_TRIGGER;\n",
    "Float_t scaleFactor_JVFSF;\n",
    "Float_t scaleFactor_ZVERTEX;\n",
    "Float_t mcw;\n",
    "\n",
    "MCtree->SetBranchAddress(\"mcWeight\", &mcw);\n",
    "MCtree->SetBranchAddress(\"scaleFactor_PILEUP\", &scaleFactor_PILEUP);\n",
    "MCtree->SetBranchAddress(\"scaleFactor_ELE\", &scaleFactor_ELE);\n",
    "MCtree->SetBranchAddress(\"scaleFactor_MUON\", &scaleFactor_MUON);\n",
    "MCtree->SetBranchAddress(\"scaleFactor_BTAG\", &scaleFactor_BTAG);\n",
    "MCtree->SetBranchAddress(\"scaleFactor_TRIGGER\", &scaleFactor_TRIGGER);\n",
    "MCtree->SetBranchAddress(\"scaleFactor_JVFSF\", &scaleFactor_JVFSF);\n",
    "MCtree->SetBranchAddress(\"scaleFactor_ZVERTEX\", &scaleFactor_ZVERTEX);\n"
   ]
  },
  {
   "cell_type": "code",
   "execution_count": 8,
   "metadata": {},
   "outputs": [],
   "source": [
    "Float_t scaleFactor;\n",
    "Float_t evtw;\n",
    "\n",
    "int nentries, nbytes, i;\n",
    "nentries = (Int_t)MCtree->GetEntries();\n",
    "\n",
    "for (i = 0; i < nentries; i++)\n",
    "{\n",
    "    nbytes = MCtree->GetEntry(i);\n",
    " \n",
    "    \n",
    "    scaleFactor = scaleFactor_PILEUP*scaleFactor_ELE\n",
    "            *scaleFactor_MUON*scaleFactor_BTAG\n",
    "            *scaleFactor_TRIGGER*scaleFactor_JVFSF*scaleFactor_ZVERTEX;\n",
    "}\n",
    "\n",
    "evtw = scaleFactor;\n",
    "//std::cout << evtw << std::endl;"
   ]
  },
  {
   "cell_type": "code",
   "execution_count": null,
   "metadata": {},
   "outputs": [],
   "source": [
    "int nentries, nbytes, i;\n",
    "nentries = (Int_t)MCtree->GetEntries();\n",
    "\n",
    "int cut1 = 0;\n",
    "int cut2 = 0;\n",
    "int cut3 = 0;\n",
    "int cut4 = 0;\n",
    "int cut5 = 0;\n",
    "int cut6 = 0;\n",
    "int cut7 = 0;\n",
    "int cut8 = 0;\n",
    "\n",
    "\n",
    "for (i = 0; i < nentries; i++)\n",
    "{\n",
    "    nbytes = MCtree->GetEntry(i);   \n",
    "\n",
    "    //First cut: Good vertex\n",
    "    if(!good_vtx) continue;\n",
    "    cut1++;\n",
    "    MC_cutflow->Fill(1);\n",
    "\n",
    "    //Second cut: Trigger\n",
    "    if(!e_trig && !mu_trig) continue;\n",
    "    cut2++;\n",
    "    MC_cutflow->Fill(2);\n",
    "       \n",
    "    // Preselection of good leptons                                                                                \n",
    "    int n_mu=0;\n",
    "    int n_el=0;\n",
    "    int n_lep=0;\n",
    "\n",
    "    \n",
    "    //Loop over leptons\n",
    "    for(unsigned int i=0; i<lep_n; i++){\n",
    "        //Lepton Histograms\n",
    "        MC_hist_lep_pt->Fill(lep_pt[i]/1000, evtw);\n",
    "        MC_hist_lep_eta->Fill(lep_eta[i], evtw);\n",
    "        MC_hist_track_isol->Fill(lep_etcone20[i]/lep_pt[i], evtw);\n",
    "        MC_hist_cal_isol->Fill(lep_ptcone30[i]/lep_pt[i], evtw);\n",
    "        \n",
    "        \n",
    "        if( lep_pt[i] < 25000.) continue; \n",
    "        if( lep_ptcone30[i]/lep_pt[i] > 0.15 ) continue; \n",
    "        if( lep_etcone20[i]/lep_pt[i] > 0.15 ) continue;  \n",
    "        if( lep_type [i]==13 && TMath::Abs(lep_eta[i]) < 2.5 ){\n",
    "            n_mu++;}\n",
    "        if( lep_type [i]==11 && TMath::Abs(lep_eta[i]) < 2.47 && (TMath::Abs(lep_eta[i]) < 1.37 || TMath::Abs(lep_eta[i]) > 1.52  ) ){\n",
    "            n_el++;}\n",
    "        \n",
    "        //Add electrons and extract the index for the good lepton\n",
    "        \n",
    "        n_lep++;\n",
    "        \n",
    "        }\n",
    "    \n",
    "    \n",
    "    \n",
    "    \n",
    "   \n",
    "    //Select events with only 1 good lepton and fill the cutflow histogram \n",
    "    //Third cut (one good lepton):\n",
    "    if(n_lep!=1) continue;\n",
    "    MC_cutflow->Fill(3); \n",
    "    cut3++;\n",
    "\n",
    "  \n",
    "    int n_jets=0;\n",
    "    int n_bjets=0;\n",
    "    \n",
    "    \n",
    "    \n",
    "\n",
    "    //Fourth cut: At least 4 jets\n",
    "    if(jet_n<4) continue; \n",
    "    MC_cutflow->Fill(4); \n",
    "    cut4++;\n",
    "\n",
    "    for(unsigned int j=0; j<jet_n; j++){\n",
    "        //Jet Histograms \n",
    "        MC_hist_jet_pt->Fill(jet_pt[j]/1000., evtw);\n",
    "        MC_hist_jet_eta->Fill(jet_eta[j], evtw);\n",
    "        MC_hist_jet_jvf->Fill(jet_jvf[j], evtw);\n",
    "        MC_hist_jet_mv1->Fill(jet_mv1[j], evtw);\n",
    "        \n",
    "        // Apply jet cuts to find the good jets\n",
    "        if(jet_pt[j] < 25000.) continue;\n",
    "        if(jet_eta[j] > 2.5) continue; //Eta cut\n",
    "        if(jet_pt[j] < 50000 && jet_eta[j] < 2.4 && jet_jvf[j] <0.5 ) continue;  // JVF cleaning \n",
    "            n_jets++;\n",
    "        if(jet_mv1[j] < 0.7892) continue;\n",
    "            n_bjets++  ;  // cut on 0.7892 MV1 and count the number of b-jets\n",
    "    }\n",
    "  \n",
    "    MC_hist_njets -> Fill(n_jets, evtw);\n",
    "    MC_hist_nbjets -> Fill(n_bjets, evtw);\n",
    "    \n",
    "    \n",
    "    \n",
    "    //Fifth cut: At least 4 good jets\n",
    "    if(n_jets<4) continue; \n",
    "    MC_cutflow->Fill(5); \n",
    "    cut5++;\n",
    "   \n",
    "    //Sixth cut: at least one b-jet\n",
    "    if(n_bjets <2) continue;\n",
    "    MC_cutflow->Fill(6); \n",
    "    cut6++;\n",
    " \n",
    "    //Seventh cut: MET > 30 GeV\n",
    "    if(MET<30000) continue;\n",
    "    MC_hist_MET->Fill(MET/1000., evtw);\n",
    "    MC_cutflow->Fill(7); \n",
    "    cut7++;\n",
    "  \n",
    "    // TLorentzVector definitions                                                               \n",
    "    TLorentzVector Lepton  = TLorentzVector();\n",
    "    TLorentzVector  MeT  = TLorentzVector();\n",
    "    \n",
    "    \n",
    "    //To complete: Lorentz vectors for the lepton and MET. Use SetPtEtaPhiE().\n",
    "    \n",
    "    Lepton.SetPtEtaPhiE(lep_pt[0],lep_eta[0],lep_phi[0],lep_E[0]);\n",
    "    MeT.SetPtEtaPhiE(MET,0,MET_phi,MET);\n",
    "    \n",
    "\n",
    "    \n",
    "    //Calculation of the mTW using TLorentz vectors             \n",
    "   float mTW = sqrt(2*Lepton.Pt()*MeT.Et()*(1-cos(Lepton.DeltaPhi(MeT))));\n",
    "\n",
    "    //Eight cut: mTW > 30 GeV\n",
    "    if(mTW < 30000.) continue;\n",
    "    MC_cutflow->Fill(8); \n",
    "    cut8++;\n",
    "    \n",
    "    MC_hist_MWT->Fill(mTW/1000., evtw);\n",
    "    \n",
    "}\n",
    "\n",
    "\n",
    "\n",
    "    \n",
    "std::cout << \"Done!\" << std::endl;\n",
    "std::cout << \"All events:\" << nentries << std::endl;\n",
    "std::cout << \"MC_Cut1:\" << cut1 << std::endl;\n",
    "std::cout << \"MC_Cut2:\" << cut2 << std::endl;\n",
    "std::cout << \"MC_Cut3:\" << cut3 << std::endl;\n",
    "std::cout << \"MC_Cut4:\" << cut4 << std::endl;\n",
    "std::cout << \"MC_Cut5:\" << cut5 << std::endl;\n",
    "std::cout << \"MC_Cut6:\" << cut6 << std::endl;\n",
    "std::cout << \"MC_Cut7:\" << cut7 << std::endl;\n",
    "std::cout << \"MC_Cut8:\" << cut8 << std::endl;"
   ]
  },
  {
   "cell_type": "markdown",
   "metadata": {},
   "source": [
    "Have to apply scale factors"
   ]
  },
  {
   "cell_type": "code",
   "execution_count": 9,
   "metadata": {},
   "outputs": [],
   "source": [
    "Float_t weight;\n",
    "Float_t L_MC;\n",
    "Float_t N_MC;\n",
    "Float_t Filter;\n",
    "Float_t sigma;\n",
    "Float_t L_data;\n",
    "\n",
    "N_MC = 49761200.21;\n",
    "Filter = 0.072212854;\n",
    "sigma = 137.29749;\n",
    "\n",
    "L_data = 1000;\n",
    "L_MC = N_MC*Filter/sigma;\n",
    "\n",
    "\n",
    "weight = L_data/L_MC;"
   ]
  },
  {
   "cell_type": "markdown",
   "metadata": {},
   "source": [
    "<p>Draw</p>"
   ]
  },
  {
   "cell_type": "code",
   "execution_count": 10,
   "metadata": {},
   "outputs": [
    {
     "data": {
      "image/png": "[encoded data removed]",
      "text/plain": [
       "<IPython.core.display.Image object>"
      ]
     },
     "metadata": {},
     "output_type": "display_data"
    }
   ],
   "source": [
    "TCanvas *canvas1 = new TCanvas(\"Canvas\",\"\",800,600);\n",
    "MC_cutflow->SetFillColor(03);\n",
    "MC_cutflow->Draw(\"\");\n",
    "canvas1->SetLogy();\n",
    "canvas1->Draw();"
   ]
  },
  {
   "cell_type": "code",
   "execution_count": null,
   "metadata": {},
   "outputs": [],
   "source": [
    "int nentries, nbytes, i;\n",
    "nentries = (Int_t)tree->GetEntries();\n",
    "\n",
    "for (i = 0; i < nentries; i++)\n",
    "{\n",
    "    nbytes = tree->GetEntry(i); \n",
    "    \n",
    "   \n",
    "}\n",
    "\n",
    "std::cout << \"Done!\" << std::endl;"
   ]
  },
  {
   "cell_type": "code",
   "execution_count": 11,
   "metadata": {},
   "outputs": [
    {
     "data": {
      "image/png": "[encoded data removed]",
      "text/plain": [
       "<IPython.core.display.Image object>"
      ]
     },
     "metadata": {},
     "output_type": "display_data"
    }
   ],
   "source": [
    "TCanvas *canvas2 = new TCanvas(\"Canvas2\",\"2\",800,600);\n",
    "MC_hist_lep_pt->Draw();\n",
    "canvas2->Draw();"
   ]
  },
  {
   "cell_type": "code",
   "execution_count": 7,
   "metadata": {},
   "outputs": [
    {
     "name": "stdout",
     "output_type": "stream",
     "text": [
      "Done!\n"
     ]
    }
   ],
   "source": [
    "int nentries, nbytes, i;\n",
    "nentries = (Int_t)tree->GetEntries();\n",
    "\n",
    "for (i = 0; i < nentries; i++)\n",
    "{\n",
    "    nbytes = tree->GetEntry(i); \n",
    "    \n",
    "    for(int j = 0; j < n_lep; j++)\n",
    "    {\n",
    "    hist_lep_eta->Fill(lep_eta[j]);       \n",
    "    }\n",
    "}\n",
    "\n",
    "std::cout << \"Done!\" << std::endl;"
   ]
  },
  {
   "cell_type": "code",
   "execution_count": 74,
   "metadata": {},
   "outputs": [
    {
     "data": {
      "image/png": "[encoded data removed]",
      "text/plain": [
       "<IPython.core.display.Image object>"
      ]
     },
     "metadata": {},
     "output_type": "display_data"
    },
    {
     "name": "stderr",
     "output_type": "stream",
     "text": [
      "Warning in <TCanvas::Constructor>: Deleting canvas with same name: Canvas3\n"
     ]
    }
   ],
   "source": [
    "TCanvas *canvas3 = new TCanvas(\"Canvas3\",\"3\",800,600);\n",
    "MC_hist_lep_eta->Draw();\n",
    "canvas3->Draw();"
   ]
  },
  {
   "cell_type": "code",
   "execution_count": 9,
   "metadata": {},
   "outputs": [
    {
     "name": "stdout",
     "output_type": "stream",
     "text": [
      "Done!\n"
     ]
    }
   ],
   "source": [
    "int nentries, nbytes, i;\n",
    "nentries = (Int_t)tree->GetEntries();\n",
    "\n",
    "for (i = 0; i < nentries; i++)\n",
    "{\n",
    "    nbytes = tree->GetEntry(i); \n",
    "    \n",
    "    for(unsigned int j= 0 ; j < lep_n ; j++)\n",
    "    {\n",
    "    hist_track_isol->Fill(lep_ptcone30[j]/lep_pt[j]);\n",
    "    }    \n",
    "}\n",
    "\n",
    "std::cout << \"Done!\" << std::endl;"
   ]
  },
  {
   "cell_type": "code",
   "execution_count": 79,
   "metadata": {},
   "outputs": [
    {
     "data": {
      "image/png": "[encoded data removed]",
      "text/plain": [
       "<IPython.core.display.Image object>"
      ]
     },
     "metadata": {},
     "output_type": "display_data"
    },
    {
     "name": "stderr",
     "output_type": "stream",
     "text": [
      "Warning in <TCanvas::Constructor>: Deleting canvas with same name: Canvas4\n"
     ]
    }
   ],
   "source": [
    "TCanvas *canvas4 = new TCanvas(\"Canvas4\",\"4\",800,600);\n",
    "MC_hist_track_isol->Draw();\n",
    "canvas4->Draw();"
   ]
  },
  {
   "cell_type": "code",
   "execution_count": 11,
   "metadata": {},
   "outputs": [
    {
     "name": "stdout",
     "output_type": "stream",
     "text": [
      "Done!\n"
     ]
    }
   ],
   "source": [
    "int nentries, nbytes, i;\n",
    "nentries = (Int_t)tree->GetEntries();\n",
    "\n",
    "for (i = 0; i < nentries; i++)\n",
    "{\n",
    "    nbytes = tree->GetEntry(i); \n",
    "    \n",
    "    for(unsigned int j= 0 ; j < n_lep ; j++)\n",
    "    {\n",
    "    hist_cal_isol->Fill(lep_etcone20[j]/lep_pt[j]);\n",
    "    }    \n",
    "}\n",
    "\n",
    "std::cout << \"Done!\" << std::endl;"
   ]
  },
  {
   "cell_type": "code",
   "execution_count": 25,
   "metadata": {},
   "outputs": [
    {
     "data": {
      "image/png": "[encoded data removed]",
      "text/plain": [
       "<IPython.core.display.Image object>"
      ]
     },
     "metadata": {},
     "output_type": "display_data"
    }
   ],
   "source": [
    "TCanvas *canvas5 = new TCanvas(\"Canvas5\",\"5\",800,600);\n",
    "MC_hist_cal_isol->Draw();\n",
    "canvas5->Draw();"
   ]
  },
  {
   "cell_type": "code",
   "execution_count": 13,
   "metadata": {},
   "outputs": [
    {
     "name": "stdout",
     "output_type": "stream",
     "text": [
      "Done!\n"
     ]
    }
   ],
   "source": [
    "int nentries, nbytes, i;\n",
    "nentries = (Int_t)tree->GetEntries();\n",
    "\n",
    "for (i = 0; i < nentries; i++)\n",
    "{\n",
    "    nbytes = tree->GetEntry(i);   \n",
    "    \n",
    "    hist_njets->Fill(n_jets, evtw);\n",
    "    \n",
    "}\n",
    "\n",
    "std::cout << \"Done!\" << std::endl;"
   ]
  },
  {
   "cell_type": "code",
   "execution_count": 32,
   "metadata": {},
   "outputs": [
    {
     "data": {
      "image/png": "[encoded data removed]",
      "text/plain": [
       "<IPython.core.display.Image object>"
      ]
     },
     "metadata": {},
     "output_type": "display_data"
    },
    {
     "name": "stderr",
     "output_type": "stream",
     "text": [
      "Warning in <TCanvas::Constructor>: Deleting canvas with same name: Canvas6\n"
     ]
    }
   ],
   "source": [
    "TCanvas *canvas6 = new TCanvas(\"Canvas6\",\"6\",800,600);\n",
    "MC_hist_njets->SetLineStyle(01);\n",
    "MC_hist_njets->SetLineColor(kRed);\n",
    "MC_hist_njets->Draw(\"\");\n",
    "canvas6->Draw();"
   ]
  },
  {
   "cell_type": "code",
   "execution_count": 15,
   "metadata": {},
   "outputs": [
    {
     "name": "stdout",
     "output_type": "stream",
     "text": [
      "Done!\n"
     ]
    }
   ],
   "source": [
    "int nentries, nbytes, i;\n",
    "nentries = (Int_t)tree->GetEntries();\n",
    "\n",
    "for (i = 0; i < nentries; i++)\n",
    "{\n",
    "    nbytes = tree->GetEntry(i); \n",
    "    \n",
    "    for(int j = 0 ; j < n_jets ; j++)\n",
    "    {   \n",
    "    hist_jet_pt->Fill(jet_pt[j]/1000);\n",
    "    }   \n",
    "}\n",
    "\n",
    "std::cout << \"Done!\" << std::endl;"
   ]
  },
  {
   "cell_type": "code",
   "execution_count": 33,
   "metadata": {},
   "outputs": [
    {
     "data": {
      "image/png": "[encoded data removed]",
      "text/plain": [
       "<IPython.core.display.Image object>"
      ]
     },
     "metadata": {},
     "output_type": "display_data"
    }
   ],
   "source": [
    "TCanvas *canvas7 = new TCanvas(\"Canvas7\",\"7\",800,600);\n",
    "MC_hist_jet_pt->Draw();\n",
    "canvas7->Draw();"
   ]
  },
  {
   "cell_type": "code",
   "execution_count": 17,
   "metadata": {},
   "outputs": [
    {
     "name": "stdout",
     "output_type": "stream",
     "text": [
      "Done!\n"
     ]
    }
   ],
   "source": [
    "int nentries, nbytes, i;\n",
    "nentries = (Int_t)tree->GetEntries();\n",
    "\n",
    "for (i = 0; i < nentries; i++)\n",
    "{\n",
    "    nbytes = tree->GetEntry(i); \n",
    "    \n",
    "    for(int j=0 ; j < n_jets ; j++ )\n",
    "    {\n",
    "        hist_jet_eta->Fill(jet_eta[j]);       \n",
    "    }  \n",
    "}\n",
    "\n",
    "std::cout << \"Done!\" << std::endl;"
   ]
  },
  {
   "cell_type": "code",
   "execution_count": 34,
   "metadata": {},
   "outputs": [
    {
     "data": {
      "image/png": "[encoded data removed]",
      "text/plain": [
       "<IPython.core.display.Image object>"
      ]
     },
     "metadata": {},
     "output_type": "display_data"
    }
   ],
   "source": [
    "TCanvas *canvas8 = new TCanvas(\"Canvas8\",\"8\",800,600);\n",
    "MC_hist_jet_eta->Draw();\n",
    "canvas8->Draw();"
   ]
  },
  {
   "cell_type": "code",
   "execution_count": 20,
   "metadata": {},
   "outputs": [
    {
     "name": "stdout",
     "output_type": "stream",
     "text": [
      "Done!\n"
     ]
    }
   ],
   "source": [
    "int nentries, nbytes, i;\n",
    "nentries = (Int_t)tree->GetEntries();\n",
    "\n",
    "for (i = 0; i < nentries; i++)\n",
    "{\n",
    "    nbytes = tree->GetEntry(i); \n",
    "    \n",
    "    for(int j = 0 ; j < n_jets ; j++)\n",
    "    {   \n",
    "    hist_jet_jvf->Fill(jet_jvf[j]);\n",
    "    }   \n",
    "}\n",
    "\n",
    "std::cout << \"Done!\" << std::endl;"
   ]
  },
  {
   "cell_type": "code",
   "execution_count": 35,
   "metadata": {},
   "outputs": [
    {
     "data": {
      "image/png": "[encoded data removed]",
      "text/plain": [
       "<IPython.core.display.Image object>"
      ]
     },
     "metadata": {},
     "output_type": "display_data"
    }
   ],
   "source": [
    "TCanvas *canvas9 = new TCanvas(\"Canvas9\",\"9\",800,600);\n",
    "MC_hist_jet_jvf->Draw();\n",
    "canvas9->Draw();"
   ]
  },
  {
   "cell_type": "code",
   "execution_count": 22,
   "metadata": {},
   "outputs": [
    {
     "name": "stdout",
     "output_type": "stream",
     "text": [
      "Done!\n"
     ]
    }
   ],
   "source": [
    "int nentries, nbytes, i;\n",
    "nentries = (Int_t)tree->GetEntries();\n",
    "\n",
    "for (i = 0; i < nentries; i++)\n",
    "{\n",
    "    nbytes = tree->GetEntry(i); \n",
    "    \n",
    "    for(int j = 0 ; j < n_jets ; j++)\n",
    "    {    \n",
    "    hist_jet_mv1->Fill(jet_mv1[j]);       \n",
    "    }\n",
    "}\n",
    "\n",
    "std::cout << \"Done!\" << std::endl;"
   ]
  },
  {
   "cell_type": "code",
   "execution_count": 36,
   "metadata": {},
   "outputs": [
    {
     "data": {
      "image/png": "[encoded data removed]",
      "text/plain": [
       "<IPython.core.display.Image object>"
      ]
     },
     "metadata": {},
     "output_type": "display_data"
    }
   ],
   "source": [
    "TCanvas *canvas10 = new TCanvas(\"Canvas10\",\"10\",800,600);\n",
    "MC_hist_jet_mv1->Draw();\n",
    "canvas10->Draw();"
   ]
  },
  {
   "cell_type": "code",
   "execution_count": null,
   "metadata": {},
   "outputs": [],
   "source": [
    "int nentries, nbytes, i;\n",
    "nentries = (Int_t)tree->GetEntries();\n",
    "\n",
    "for (i = 0; i < nentries; i++)\n",
    "{\n",
    "    nbytes = tree->GetEntry(i); \n",
    "    int n_bjets = 0;\n",
    "\n",
    "    for(unsigned int j=0; j<n_jets; j++)\n",
    "    {\n",
    "        if(jet_mv1[j] < 0.7892){\n",
    "            n_bjets++  ;}        \n",
    "    }   \n",
    "        hist_nbjets->Fill(n_bjets);\n",
    "        std::cout << n_bjets << std::endl;\n",
    "}\n",
    "\n",
    "std::cout << \"Done!\" << std::endl;"
   ]
  },
  {
   "cell_type": "code",
   "execution_count": 37,
   "metadata": {},
   "outputs": [
    {
     "data": {
      "image/png": "[encoded data removed]",
      "text/plain": [
       "<IPython.core.display.Image object>"
      ]
     },
     "metadata": {},
     "output_type": "display_data"
    }
   ],
   "source": [
    "TCanvas *canvas11 = new TCanvas(\"Canvas11\",\"11\",800,600);\n",
    "MC_hist_nbjets->Draw();\n",
    "canvas11->Draw();"
   ]
  },
  {
   "cell_type": "code",
   "execution_count": null,
   "metadata": {},
   "outputs": [],
   "source": [
    "int nentries, nbytes, i;\n",
    "nentries = (Int_t)tree->GetEntries();\n",
    "\n",
    "for (i = 0; i < nentries; i++)\n",
    "{\n",
    "   nbytes = tree->GetEntry(i); \n",
    "   hist_MET->Fill(MET);       \n",
    "    \n",
    "}\n",
    "\n",
    "std::cout << \"Done!\" << std::endl;"
   ]
  },
  {
   "cell_type": "code",
   "execution_count": 22,
   "metadata": {},
   "outputs": [
    {
     "data": {
      "image/png": "[encoded data removed]",
      "text/plain": [
       "<IPython.core.display.Image object>"
      ]
     },
     "metadata": {},
     "output_type": "display_data"
    }
   ],
   "source": [
    "TCanvas *canvas12 = new TCanvas(\"Canvas12\",\"12\",800,600);\n",
    "MC_hist_MET->Draw();\n",
    "canvas12->Draw();"
   ]
  },
  {
   "cell_type": "code",
   "execution_count": 30,
   "metadata": {},
   "outputs": [
    {
     "name": "stdout",
     "output_type": "stream",
     "text": [
      "Done!\n"
     ]
    }
   ],
   "source": [
    "int nentries, nbytes, i;\n",
    "nentries = (Int_t)tree->GetEntries();\n",
    "\n",
    "for (i = 0; i < nentries; i++)\n",
    "{\n",
    "    nbytes = tree->GetEntry(i); \n",
    "    \n",
    "    hist_MWT->Fill(mwt);       \n",
    "    \n",
    "}\n",
    "\n",
    "std::cout << \"Done!\" << std::endl;"
   ]
  },
  {
   "cell_type": "code",
   "execution_count": 21,
   "metadata": {},
   "outputs": [
    {
     "data": {
      "image/png": "[encoded data removed]",
      "text/plain": [
       "<IPython.core.display.Image object>"
      ]
     },
     "metadata": {},
     "output_type": "display_data"
    }
   ],
   "source": [
    "TCanvas *canvas13 = new TCanvas(\"Canvas13\",\"13\",800,600);\n",
    "MC_hist_MWT->Draw();\n",
    "canvas13->Draw();"
   ]
  },
  {
   "cell_type": "code",
   "execution_count": null,
   "metadata": {},
   "outputs": [],
   "source": []
  }
 ],
 "metadata": {
  "kernelspec": {
   "display_name": "ROOT C++",
   "language": "c++",
   "name": "root"
  },
  "language_info": {
   "codemirror_mode": "text/x-c++src",
   "file_extension": ".C",
   "mimetype": " text/x-c++src",
   "name": "c++"
  }
 },
 "nbformat": 4,
 "nbformat_minor": 4
}
